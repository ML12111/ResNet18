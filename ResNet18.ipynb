{
 "cells": [
  {
   "cell_type": "code",
   "execution_count": 1,
   "id": "ba46e3eb-5bdc-43d5-a232-24638195ce94",
   "metadata": {},
   "outputs": [],
   "source": [
    "import torch\n",
    "import torch.nn as nn\n",
    "import torch.optim as optim\n",
    "import torch.nn.functional as F\n",
    "import torchvision.transforms as transforms\n",
    "from torch.utils.data import DataLoader\n",
    "from torch.cuda.amp import GradScaler, autocast\n",
    "from tqdm import tqdm\n",
    "from PIL import Image\n",
    "import time  # 导入time模块\n",
    "import matplotlib.pyplot as plt  # 导入matplotlib模块"
   ]
  },
  {
   "cell_type": "code",
   "execution_count": 2,
   "id": "9660980e-8ba1-45ff-a47b-9eefb25cc8a4",
   "metadata": {},
   "outputs": [],
   "source": [
    "# 定义数据集路径\n",
    "train_label_path = \"data_sort/train/label.txt\"\n",
    "test_label_path = \"data_sort/test/label.txt\""
   ]
  },
  {
   "cell_type": "code",
   "execution_count": 3,
   "id": "f0f63851-9f97-404f-85ec-a35f6f3af503",
   "metadata": {},
   "outputs": [],
   "source": [
    "# 读取标签和数据\n",
    "labels = {}\n",
    "train_data = []\n",
    "test_data = []"
   ]
  },
  {
   "cell_type": "code",
   "execution_count": 4,
   "id": "6093e56b-d78a-4b85-9263-17e50e502512",
   "metadata": {},
   "outputs": [],
   "source": [
    "with open(train_label_path, 'r') as f:\n",
    "    lines = f.readlines()\n",
    "    for line in lines:\n",
    "        k_v = line.split(' ')\n",
    "        train_data.append(k_v[0])\n",
    "        labels[k_v[0]] = k_v[1]\n",
    "\n",
    "class GetTrainLoader(torch.utils.data.Dataset):\n",
    "    def __init__(self):\n",
    "        self.data = train_data\n",
    "        self.label = labels\n",
    "        self.transform_train = transforms.Compose([\n",
    "            transforms.Resize((135, 240)),\n",
    "            transforms.ToTensor(),\n",
    "        ])\n",
    "\n",
    "    def __getitem__(self, index):\n",
    "        im_id = self.data[index]\n",
    "        image = Image.open(im_id)\n",
    "        image = image.crop([300, 80, 1620, 950])\n",
    "        image = self.transform_train(image)\n",
    "        label = int(self.label[im_id])\n",
    "        return image, label, im_id\n",
    "\n",
    "    def __len__(self):\n",
    "        return len(self.data)\n",
    "\n",
    "with open(test_label_path, 'r') as f:\n",
    "    lines = f.readlines()\n",
    "    for line in lines:\n",
    "        k_v = line.split(' ')\n",
    "        test_data.append(k_v[0])\n",
    "        labels[k_v[0]] = k_v[1]\n",
    "\n",
    "class GetTestLoader(torch.utils.data.Dataset):\n",
    "    def __init__(self):\n",
    "        self.data = test_data\n",
    "        self.label = labels\n",
    "        self.transform_test = transforms.Compose([\n",
    "            transforms.Resize((135, 240)),\n",
    "            transforms.ToTensor(),\n",
    "        ])\n",
    "\n",
    "    def __getitem__(self, index):\n",
    "        im_id = self.data[index]\n",
    "        image = Image.open(im_id)\n",
    "        image = image.crop([300, 80, 1620, 950])\n",
    "        image = self.transform_test(image)\n",
    "        label = int(self.label[im_id])\n",
    "        return image, label, im_id\n",
    "\n",
    "    def __len__(self):\n",
    "        return len(self.data)"
   ]
  },
  {
   "cell_type": "code",
   "execution_count": 5,
   "id": "73128ffb-9769-43be-a300-1e7a8a20f90d",
   "metadata": {},
   "outputs": [],
   "source": [
    "class ResidualBlock(nn.Module):\n",
    "    def __init__(self, inchannel, outchannel, stride=1):\n",
    "        super(ResidualBlock, self).__init__()\n",
    "        self.left = nn.Sequential(\n",
    "            nn.Conv2d(inchannel, outchannel, kernel_size=3, stride=stride, padding=1, bias=False),\n",
    "            nn.BatchNorm2d(outchannel),\n",
    "            nn.ReLU(inplace=True),\n",
    "            nn.Conv2d(outchannel, outchannel, kernel_size=3, stride=1, padding=1, bias=False),\n",
    "            nn.BatchNorm2d(outchannel)\n",
    "        )\n",
    "        self.shortcut = nn.Sequential()\n",
    "        if stride != 1 or inchannel != outchannel:\n",
    "            self.shortcut = nn.Sequential(\n",
    "                nn.Conv2d(inchannel, outchannel, kernel_size=1, stride=stride, bias=False),\n",
    "                nn.BatchNorm2d(outchannel)\n",
    "            )\n",
    "            \n",
    "    def forward(self, x):\n",
    "        out = self.left(x)\n",
    "        out = out + self.shortcut(x)\n",
    "        out = F.relu(out)\n",
    "        return out\n",
    "\n",
    "class ResNet(nn.Module):\n",
    "    def __init__(self, ResidualBlock, num_classes=5):\n",
    "        super(ResNet, self).__init__()\n",
    "        self.inchannel = 64\n",
    "        self.conv1 = nn.Sequential(\n",
    "            nn.Conv2d(3, 64, kernel_size=5, stride=1, padding=1, bias=False),\n",
    "            nn.BatchNorm2d(64),\n",
    "            nn.ReLU()\n",
    "        )\n",
    "        self.layer1 = self.make_layer(ResidualBlock, 64, 2, stride=1)\n",
    "        self.layer2 = self.make_layer(ResidualBlock, 128, 2, stride=2)\n",
    "        self.layer3 = self.make_layer(ResidualBlock, 256, 2, stride=2)      \n",
    "        self.layer4 = self.make_layer(ResidualBlock, 512, 2, stride=2)        \n",
    "        self.fc = nn.Linear(14336, num_classes)\n",
    "        \n",
    "    def make_layer(self, block, channels, num_blocks, stride):\n",
    "        strides = [stride] + [1] * (num_blocks - 1)\n",
    "        layers = []\n",
    "        for stride in strides:\n",
    "            layers.append(block(self.inchannel, channels, stride))\n",
    "            self.inchannel = channels\n",
    "        return nn.Sequential(*layers)\n",
    "    \n",
    "    def forward(self, x):\n",
    "        out = self.conv1(x)\n",
    "        out = self.layer1(out)\n",
    "        out = self.layer2(out)\n",
    "        out = self.layer3(out)\n",
    "        out = self.layer4(out)\n",
    "        out = F.avg_pool2d(out, 4)\n",
    "        out = out.view(out.size(0), -1)  # 展平成一维\n",
    "        #print(out.shape)  # 调试信息，打印输出尺寸\n",
    "        out = self.fc(out)\n",
    "        return out\n",
    "    \n",
    "def ResNet18():\n",
    "    return ResNet(ResidualBlock)"
   ]
  },
  {
   "cell_type": "code",
   "execution_count": 6,
   "id": "4002a59e-a765-4af9-981f-cb0359d22e49",
   "metadata": {},
   "outputs": [],
   "source": [
    "#检查GPU\n",
    "device = torch.device(\"cuda\" if torch.cuda.is_available() else \"cpu\")"
   ]
  },
  {
   "cell_type": "code",
   "execution_count": 7,
   "id": "566fc53c-0fac-4e13-8b92-bf8d411e75a4",
   "metadata": {},
   "outputs": [],
   "source": [
    "# 设置超参数\n",
    "EPOCH = 25\n",
    "pre_epoch = 0\n",
    "BATCH_SIZE = 8\n",
    "LR = 0.0004"
   ]
  },
  {
   "cell_type": "code",
   "execution_count": 8,
   "id": "4ac87c5f-d7dd-4210-948b-f7fbfb997ea2",
   "metadata": {},
   "outputs": [],
   "source": [
    "# 准备数据集\n",
    "train_labeled_set = GetTrainLoader()  # label\n",
    "trainloader = DataLoader(train_labeled_set, batch_size=BATCH_SIZE, shuffle=True, num_workers=8, pin_memory=True)\n",
    "\n",
    "test_labeled_set = GetTestLoader()  # label\n",
    "testloader = DataLoader(test_labeled_set, batch_size=BATCH_SIZE, shuffle=False, num_workers=8, pin_memory=True)"
   ]
  },
  {
   "cell_type": "code",
   "execution_count": 9,
   "id": "ccf89a4e-68fb-402d-940c-5cc1e9e920a3",
   "metadata": {},
   "outputs": [],
   "source": [
    "# 定义 ResNet18\n",
    "net = ResNet18().to(device)"
   ]
  },
  {
   "cell_type": "code",
   "execution_count": 10,
   "id": "836628d1-fd64-4217-b26a-2648006088a3",
   "metadata": {},
   "outputs": [],
   "source": [
    "# 定义损失函数和优化器\n",
    "criterion = nn.CrossEntropyLoss()\n",
    "optimizer = optim.SGD(net.parameters(), lr=LR, momentum=0.8, weight_decay=5e-4)"
   ]
  },
  {
   "cell_type": "code",
   "execution_count": 11,
   "id": "7d9b30c8-4759-4c81-8b3b-7002cfca4c79",
   "metadata": {},
   "outputs": [],
   "source": [
    "# 创建 GradScaler 实例\n",
    "scaler = GradScaler()"
   ]
  },
  {
   "cell_type": "code",
   "execution_count": 12,
   "id": "eaffd386-d14a-48c9-b206-d99d2d3eb3d0",
   "metadata": {
    "scrolled": true
   },
   "outputs": [
    {
     "name": "stdout",
     "output_type": "stream",
     "text": [
      "\n",
      "Epoch: 1\n"
     ]
    },
    {
     "name": "stderr",
     "output_type": "stream",
     "text": [
      "Epoch 1/25: 100%|██████████| 30/30 [00:01<00:00, 15.21batch/s, accuracy=tensor(60.8333), loss=1.09]"
     ]
    },
    {
     "name": "stdout",
     "output_type": "stream",
     "text": [
      "Epoch [1/25], Loss: 1.0874, Accuracy: 60.83%, Duration: 1.98s\n",
      "Waiting Test...\n"
     ]
    },
    {
     "name": "stderr",
     "output_type": "stream",
     "text": [
      "\n",
      "/root/miniconda3/lib/python3.12/site-packages/torch/nn/modules/conv.py:456: UserWarning: Plan failed with a cudnnException: CUDNN_BACKEND_EXECUTION_PLAN_DESCRIPTOR: cudnnFinalize Descriptor Failed cudnn_status: CUDNN_STATUS_NOT_SUPPORTED (Triggered internally at ../aten/src/ATen/native/cudnn/Conv_v8.cpp:919.)\n",
      "  return F.conv2d(input, weight, bias, self.stride,\n"
     ]
    },
    {
     "name": "stdout",
     "output_type": "stream",
     "text": [
      "Test's accuracy is: 15.519%\n",
      "\n",
      "Epoch: 2\n"
     ]
    },
    {
     "name": "stderr",
     "output_type": "stream",
     "text": [
      "Epoch 2/25: 100%|██████████| 30/30 [00:01<00:00, 20.69batch/s, accuracy=tensor(80.4167), loss=0.454]"
     ]
    },
    {
     "name": "stdout",
     "output_type": "stream",
     "text": [
      "Epoch [2/25], Loss: 0.4544, Accuracy: 80.42%, Duration: 1.45s\n",
      "Waiting Test...\n"
     ]
    },
    {
     "name": "stderr",
     "output_type": "stream",
     "text": [
      "\n"
     ]
    },
    {
     "name": "stdout",
     "output_type": "stream",
     "text": [
      "Test's accuracy is: 49.332%\n",
      "\n",
      "Epoch: 3\n"
     ]
    },
    {
     "name": "stderr",
     "output_type": "stream",
     "text": [
      "Epoch 3/25: 100%|██████████| 30/30 [00:01<00:00, 20.67batch/s, accuracy=tensor(95.), loss=0.135]    "
     ]
    },
    {
     "name": "stdout",
     "output_type": "stream",
     "text": [
      "Epoch [3/25], Loss: 0.1353, Accuracy: 95.00%, Duration: 1.45s\n",
      "Waiting Test...\n"
     ]
    },
    {
     "name": "stderr",
     "output_type": "stream",
     "text": [
      "\n"
     ]
    },
    {
     "name": "stdout",
     "output_type": "stream",
     "text": [
      "Test's accuracy is: 93.628%\n",
      "\n",
      "Epoch: 4\n"
     ]
    },
    {
     "name": "stderr",
     "output_type": "stream",
     "text": [
      "Epoch 4/25: 100%|██████████| 30/30 [00:01<00:00, 21.50batch/s, accuracy=tensor(99.1667), loss=0.0431]"
     ]
    },
    {
     "name": "stdout",
     "output_type": "stream",
     "text": [
      "Epoch [4/25], Loss: 0.0431, Accuracy: 99.17%, Duration: 1.40s\n",
      "Waiting Test...\n"
     ]
    },
    {
     "name": "stderr",
     "output_type": "stream",
     "text": [
      "\n"
     ]
    },
    {
     "name": "stdout",
     "output_type": "stream",
     "text": [
      "Test's accuracy is: 93.011%\n",
      "\n",
      "Epoch: 5\n"
     ]
    },
    {
     "name": "stderr",
     "output_type": "stream",
     "text": [
      "Epoch 5/25: 100%|██████████| 30/30 [00:01<00:00, 21.49batch/s, accuracy=tensor(100.), loss=0.0205]"
     ]
    },
    {
     "name": "stdout",
     "output_type": "stream",
     "text": [
      "Epoch [5/25], Loss: 0.0205, Accuracy: 100.00%, Duration: 1.40s\n",
      "Waiting Test...\n"
     ]
    },
    {
     "name": "stderr",
     "output_type": "stream",
     "text": [
      "\n"
     ]
    },
    {
     "name": "stdout",
     "output_type": "stream",
     "text": [
      "Test's accuracy is: 93.217%\n",
      "\n",
      "Epoch: 6\n"
     ]
    },
    {
     "name": "stderr",
     "output_type": "stream",
     "text": [
      "Epoch 6/25: 100%|██████████| 30/30 [00:01<00:00, 20.72batch/s, accuracy=tensor(98.3333), loss=0.0572]"
     ]
    },
    {
     "name": "stdout",
     "output_type": "stream",
     "text": [
      "Epoch [6/25], Loss: 0.0572, Accuracy: 98.33%, Duration: 1.45s\n",
      "Waiting Test...\n"
     ]
    },
    {
     "name": "stderr",
     "output_type": "stream",
     "text": [
      "\n"
     ]
    },
    {
     "name": "stdout",
     "output_type": "stream",
     "text": [
      "Test's accuracy is: 77.184%\n",
      "\n",
      "Epoch: 7\n"
     ]
    },
    {
     "name": "stderr",
     "output_type": "stream",
     "text": [
      "Epoch 7/25: 100%|██████████| 30/30 [00:01<00:00, 22.05batch/s, accuracy=tensor(99.5833), loss=0.0185]"
     ]
    },
    {
     "name": "stdout",
     "output_type": "stream",
     "text": [
      "Epoch [7/25], Loss: 0.0185, Accuracy: 99.58%, Duration: 1.36s\n",
      "Waiting Test...\n"
     ]
    },
    {
     "name": "stderr",
     "output_type": "stream",
     "text": [
      "\n"
     ]
    },
    {
     "name": "stdout",
     "output_type": "stream",
     "text": [
      "Test's accuracy is: 94.347%\n",
      "\n",
      "Epoch: 8\n"
     ]
    },
    {
     "name": "stderr",
     "output_type": "stream",
     "text": [
      "Epoch 8/25: 100%|██████████| 30/30 [00:01<00:00, 21.86batch/s, accuracy=tensor(99.5833), loss=0.0181]"
     ]
    },
    {
     "name": "stdout",
     "output_type": "stream",
     "text": [
      "Epoch [8/25], Loss: 0.0181, Accuracy: 99.58%, Duration: 1.37s\n",
      "Waiting Test...\n"
     ]
    },
    {
     "name": "stderr",
     "output_type": "stream",
     "text": [
      "\n"
     ]
    },
    {
     "name": "stdout",
     "output_type": "stream",
     "text": [
      "Test's accuracy is: 93.936%\n",
      "\n",
      "Epoch: 9\n"
     ]
    },
    {
     "name": "stderr",
     "output_type": "stream",
     "text": [
      "Epoch 9/25: 100%|██████████| 30/30 [00:01<00:00, 22.24batch/s, accuracy=tensor(100.), loss=0.00941]"
     ]
    },
    {
     "name": "stdout",
     "output_type": "stream",
     "text": [
      "Epoch [9/25], Loss: 0.0094, Accuracy: 100.00%, Duration: 1.35s\n",
      "Waiting Test...\n"
     ]
    },
    {
     "name": "stderr",
     "output_type": "stream",
     "text": [
      "\n"
     ]
    },
    {
     "name": "stdout",
     "output_type": "stream",
     "text": [
      "Test's accuracy is: 95.170%\n",
      "\n",
      "Epoch: 10\n"
     ]
    },
    {
     "name": "stderr",
     "output_type": "stream",
     "text": [
      "Epoch 10/25: 100%|██████████| 30/30 [00:01<00:00, 22.10batch/s, accuracy=tensor(100.), loss=0.00582]"
     ]
    },
    {
     "name": "stdout",
     "output_type": "stream",
     "text": [
      "Epoch [10/25], Loss: 0.0058, Accuracy: 100.00%, Duration: 1.36s\n",
      "Waiting Test...\n"
     ]
    },
    {
     "name": "stderr",
     "output_type": "stream",
     "text": [
      "\n"
     ]
    },
    {
     "name": "stdout",
     "output_type": "stream",
     "text": [
      "Test's accuracy is: 94.656%\n",
      "\n",
      "Epoch: 11\n"
     ]
    },
    {
     "name": "stderr",
     "output_type": "stream",
     "text": [
      "Epoch 11/25: 100%|██████████| 30/30 [00:01<00:00, 21.38batch/s, accuracy=tensor(100.), loss=0.00536]"
     ]
    },
    {
     "name": "stdout",
     "output_type": "stream",
     "text": [
      "Epoch [11/25], Loss: 0.0054, Accuracy: 100.00%, Duration: 1.41s\n",
      "Waiting Test...\n"
     ]
    },
    {
     "name": "stderr",
     "output_type": "stream",
     "text": [
      "\n"
     ]
    },
    {
     "name": "stdout",
     "output_type": "stream",
     "text": [
      "Test's accuracy is: 94.347%\n",
      "\n",
      "Epoch: 12\n"
     ]
    },
    {
     "name": "stderr",
     "output_type": "stream",
     "text": [
      "Epoch 12/25: 100%|██████████| 30/30 [00:01<00:00, 22.05batch/s, accuracy=tensor(100.), loss=0.00463]"
     ]
    },
    {
     "name": "stdout",
     "output_type": "stream",
     "text": [
      "Epoch [12/25], Loss: 0.0046, Accuracy: 100.00%, Duration: 1.36s\n",
      "Waiting Test...\n"
     ]
    },
    {
     "name": "stderr",
     "output_type": "stream",
     "text": [
      "\n"
     ]
    },
    {
     "name": "stdout",
     "output_type": "stream",
     "text": [
      "Test's accuracy is: 95.170%\n",
      "\n",
      "Epoch: 13\n"
     ]
    },
    {
     "name": "stderr",
     "output_type": "stream",
     "text": [
      "Epoch 13/25: 100%|██████████| 30/30 [00:01<00:00, 21.84batch/s, accuracy=tensor(100.), loss=0.00537]"
     ]
    },
    {
     "name": "stdout",
     "output_type": "stream",
     "text": [
      "Epoch [13/25], Loss: 0.0054, Accuracy: 100.00%, Duration: 1.38s\n",
      "Waiting Test...\n"
     ]
    },
    {
     "name": "stderr",
     "output_type": "stream",
     "text": [
      "\n"
     ]
    },
    {
     "name": "stdout",
     "output_type": "stream",
     "text": [
      "Test's accuracy is: 93.628%\n",
      "\n",
      "Epoch: 14\n"
     ]
    },
    {
     "name": "stderr",
     "output_type": "stream",
     "text": [
      "Epoch 14/25: 100%|██████████| 30/30 [00:01<00:00, 22.17batch/s, accuracy=tensor(100.), loss=0.0052] "
     ]
    },
    {
     "name": "stdout",
     "output_type": "stream",
     "text": [
      "Epoch [14/25], Loss: 0.0052, Accuracy: 100.00%, Duration: 1.36s\n",
      "Waiting Test...\n"
     ]
    },
    {
     "name": "stderr",
     "output_type": "stream",
     "text": [
      "\n"
     ]
    },
    {
     "name": "stdout",
     "output_type": "stream",
     "text": [
      "Test's accuracy is: 94.245%\n",
      "\n",
      "Epoch: 15\n"
     ]
    },
    {
     "name": "stderr",
     "output_type": "stream",
     "text": [
      "Epoch 15/25: 100%|██████████| 30/30 [00:01<00:00, 22.17batch/s, accuracy=tensor(100.), loss=0.00401]"
     ]
    },
    {
     "name": "stdout",
     "output_type": "stream",
     "text": [
      "Epoch [15/25], Loss: 0.0040, Accuracy: 100.00%, Duration: 1.36s\n",
      "Waiting Test...\n"
     ]
    },
    {
     "name": "stderr",
     "output_type": "stream",
     "text": [
      "\n"
     ]
    },
    {
     "name": "stdout",
     "output_type": "stream",
     "text": [
      "Test's accuracy is: 95.067%\n",
      "\n",
      "Epoch: 16\n"
     ]
    },
    {
     "name": "stderr",
     "output_type": "stream",
     "text": [
      "Epoch 16/25: 100%|██████████| 30/30 [00:01<00:00, 22.02batch/s, accuracy=tensor(99.5833), loss=0.019] "
     ]
    },
    {
     "name": "stdout",
     "output_type": "stream",
     "text": [
      "Epoch [16/25], Loss: 0.0190, Accuracy: 99.58%, Duration: 1.37s\n",
      "Waiting Test...\n"
     ]
    },
    {
     "name": "stderr",
     "output_type": "stream",
     "text": [
      "\n"
     ]
    },
    {
     "name": "stdout",
     "output_type": "stream",
     "text": [
      "Test's accuracy is: 94.450%\n",
      "\n",
      "Epoch: 17\n"
     ]
    },
    {
     "name": "stderr",
     "output_type": "stream",
     "text": [
      "Epoch 17/25: 100%|██████████| 30/30 [00:01<00:00, 21.96batch/s, accuracy=tensor(100.), loss=0.00451]\n"
     ]
    },
    {
     "name": "stdout",
     "output_type": "stream",
     "text": [
      "Epoch [17/25], Loss: 0.0045, Accuracy: 100.00%, Duration: 1.37s\n",
      "Waiting Test...\n",
      "Test's accuracy is: 94.861%\n",
      "\n",
      "Epoch: 18\n"
     ]
    },
    {
     "name": "stderr",
     "output_type": "stream",
     "text": [
      "Epoch 18/25: 100%|██████████| 30/30 [00:01<00:00, 22.17batch/s, accuracy=tensor(100.), loss=0.00283]"
     ]
    },
    {
     "name": "stdout",
     "output_type": "stream",
     "text": [
      "Epoch [18/25], Loss: 0.0028, Accuracy: 100.00%, Duration: 1.36s\n",
      "Waiting Test...\n"
     ]
    },
    {
     "name": "stderr",
     "output_type": "stream",
     "text": [
      "\n"
     ]
    },
    {
     "name": "stdout",
     "output_type": "stream",
     "text": [
      "Test's accuracy is: 94.450%\n",
      "\n",
      "Epoch: 19\n"
     ]
    },
    {
     "name": "stderr",
     "output_type": "stream",
     "text": [
      "Epoch 19/25: 100%|██████████| 30/30 [00:01<00:00, 22.18batch/s, accuracy=tensor(100.), loss=0.00271]\n"
     ]
    },
    {
     "name": "stdout",
     "output_type": "stream",
     "text": [
      "Epoch [19/25], Loss: 0.0027, Accuracy: 100.00%, Duration: 1.36s\n",
      "Waiting Test...\n",
      "Test's accuracy is: 95.375%\n",
      "\n",
      "Epoch: 20\n"
     ]
    },
    {
     "name": "stderr",
     "output_type": "stream",
     "text": [
      "Epoch 20/25: 100%|██████████| 30/30 [00:01<00:00, 21.88batch/s, accuracy=tensor(100.), loss=0.00315]"
     ]
    },
    {
     "name": "stdout",
     "output_type": "stream",
     "text": [
      "Epoch [20/25], Loss: 0.0032, Accuracy: 100.00%, Duration: 1.37s\n",
      "Waiting Test...\n"
     ]
    },
    {
     "name": "stderr",
     "output_type": "stream",
     "text": [
      "\n"
     ]
    },
    {
     "name": "stdout",
     "output_type": "stream",
     "text": [
      "Test's accuracy is: 95.170%\n",
      "\n",
      "Epoch: 21\n"
     ]
    },
    {
     "name": "stderr",
     "output_type": "stream",
     "text": [
      "Epoch 21/25: 100%|██████████| 30/30 [00:01<00:00, 21.91batch/s, accuracy=tensor(100.), loss=0.00279]"
     ]
    },
    {
     "name": "stdout",
     "output_type": "stream",
     "text": [
      "Epoch [21/25], Loss: 0.0028, Accuracy: 100.00%, Duration: 1.37s\n",
      "Waiting Test...\n"
     ]
    },
    {
     "name": "stderr",
     "output_type": "stream",
     "text": [
      "\n"
     ]
    },
    {
     "name": "stdout",
     "output_type": "stream",
     "text": [
      "Test's accuracy is: 95.478%\n",
      "\n",
      "Epoch: 22\n"
     ]
    },
    {
     "name": "stderr",
     "output_type": "stream",
     "text": [
      "Epoch 22/25: 100%|██████████| 30/30 [00:01<00:00, 22.04batch/s, accuracy=tensor(100.), loss=0.00229]"
     ]
    },
    {
     "name": "stdout",
     "output_type": "stream",
     "text": [
      "Epoch [22/25], Loss: 0.0023, Accuracy: 100.00%, Duration: 1.36s\n",
      "Waiting Test...\n"
     ]
    },
    {
     "name": "stderr",
     "output_type": "stream",
     "text": [
      "\n"
     ]
    },
    {
     "name": "stdout",
     "output_type": "stream",
     "text": [
      "Test's accuracy is: 95.375%\n",
      "\n",
      "Epoch: 23\n"
     ]
    },
    {
     "name": "stderr",
     "output_type": "stream",
     "text": [
      "Epoch 23/25: 100%|██████████| 30/30 [00:01<00:00, 21.14batch/s, accuracy=tensor(100.), loss=0.00255]"
     ]
    },
    {
     "name": "stdout",
     "output_type": "stream",
     "text": [
      "Epoch [23/25], Loss: 0.0026, Accuracy: 100.00%, Duration: 1.42s\n",
      "Waiting Test...\n"
     ]
    },
    {
     "name": "stderr",
     "output_type": "stream",
     "text": [
      "\n"
     ]
    },
    {
     "name": "stdout",
     "output_type": "stream",
     "text": [
      "Test's accuracy is: 94.758%\n",
      "\n",
      "Epoch: 24\n"
     ]
    },
    {
     "name": "stderr",
     "output_type": "stream",
     "text": [
      "Epoch 24/25: 100%|██████████| 30/30 [00:01<00:00, 19.21batch/s, accuracy=tensor(100.), loss=0.00208]"
     ]
    },
    {
     "name": "stdout",
     "output_type": "stream",
     "text": [
      "Epoch [24/25], Loss: 0.0021, Accuracy: 100.00%, Duration: 1.56s\n",
      "Waiting Test...\n"
     ]
    },
    {
     "name": "stderr",
     "output_type": "stream",
     "text": [
      "\n"
     ]
    },
    {
     "name": "stdout",
     "output_type": "stream",
     "text": [
      "Test's accuracy is: 95.478%\n",
      "\n",
      "Epoch: 25\n"
     ]
    },
    {
     "name": "stderr",
     "output_type": "stream",
     "text": [
      "Epoch 25/25: 100%|██████████| 30/30 [00:01<00:00, 21.82batch/s, accuracy=tensor(100.), loss=0.00184]\n"
     ]
    },
    {
     "name": "stdout",
     "output_type": "stream",
     "text": [
      "Epoch [25/25], Loss: 0.0018, Accuracy: 100.00%, Duration: 1.38s\n",
      "Waiting Test...\n",
      "Test's accuracy is: 95.272%\n",
      "Total Training Time: 97.96s\n"
     ]
    }
   ],
   "source": [
    "# 记录每个epoch的训练损失、训练准确率和测试准确率\n",
    "train_losses = []\n",
    "train_accuracies = []\n",
    "test_accuracies = []\n",
    "\n",
    "# 训练过程\n",
    "total_start_time = time.time()  # 记录开始时间\n",
    "for epoch in range(pre_epoch, EPOCH):\n",
    "\n",
    "    print('\\nEpoch: %d' % (epoch + 1))\n",
    "    epoch_start_time = time.time()  # 记录每个epoch的开始时间\n",
    "    net.train()\n",
    "    sum_loss = 0.0\n",
    "    correct = 0.0\n",
    "    total = 0.0\n",
    "\n",
    "    # 使用tqdm显示训练进度\n",
    "    with tqdm(total=len(trainloader), desc=f'Epoch {epoch + 1}/{EPOCH}', unit='batch') as pbar:\n",
    "        for i, data in enumerate(trainloader, 0):\n",
    "            # 准备数据集\n",
    "            inputs, labels, im_idx = data\n",
    "            inputs, labels = inputs.to(device), labels.to(device)\n",
    "            optimizer.zero_grad()\n",
    "\n",
    "            # 使用autocast进行前向传播\n",
    "            with autocast():\n",
    "                outputs = net(inputs)\n",
    "                loss = criterion(outputs, labels)\n",
    "\n",
    "            # 使用scaler进行反向传播\n",
    "            scaler.scale(loss).backward()\n",
    "            scaler.step(optimizer)\n",
    "            scaler.update()\n",
    "\n",
    "            # 计算损失和准确率\n",
    "            sum_loss += loss.item()\n",
    "            _, predicted = torch.max(outputs.data, 1)\n",
    "            total += labels.size(0)\n",
    "            correct += predicted.eq(labels.data).cpu().sum()\n",
    "\n",
    "            # 更新进度条\n",
    "            pbar.set_postfix(loss=sum_loss / (i + 1), accuracy=100. * correct / total)\n",
    "            pbar.update(1)\n",
    "\n",
    "    epoch_end_time = time.time()  # 记录每个epoch的结束时间\n",
    "    epoch_duration = epoch_end_time - epoch_start_time  # 计算每个epoch的持续时间\n",
    "    epoch_accuracy = 100. * correct / total  # 计算训练准确度\n",
    "\n",
    "    # 记录训练损失和准确率\n",
    "    train_losses.append(sum_loss / len(trainloader))\n",
    "    train_accuracies.append(epoch_accuracy.cpu().numpy())\n",
    "\n",
    "    print(\n",
    "        f'Epoch [{epoch + 1}/{EPOCH}], Loss: {sum_loss / len(trainloader):.4f}, Accuracy: {epoch_accuracy:.2f}%, Duration: {epoch_duration:.2f}s')\n",
    "\n",
    "    # 测试集上的准确率\n",
    "    print('Waiting Test...')\n",
    "    with torch.no_grad():\n",
    "        correct = 0\n",
    "        total = 0\n",
    "        for data in testloader:\n",
    "            net.eval()\n",
    "            inputs, labels, _ = data\n",
    "            inputs, labels = inputs.to(device), labels.to(device)\n",
    "            outputs = net(inputs)\n",
    "            _, predicted = torch.max(outputs.data, 1)\n",
    "            total += labels.size(0)\n",
    "            correct += (predicted == labels).sum()\n",
    "        test_accuracy = 100. * correct.float() / total\n",
    "        test_accuracies.append(test_accuracy.cpu().numpy())\n",
    "        print('Test\\'s accuracy is: %.3f%%' % test_accuracy)\n",
    "\n",
    "    # 每个 epoch 结束后清理缓存\n",
    "    torch.cuda.empty_cache()\n",
    "\n",
    "total_end_time = time.time()  # 记录总训练时间的结束时间\n",
    "total_duration = total_end_time - total_start_time  # 计算总训练时间\n",
    "\n",
    "print(f'Total Training Time: {total_duration:.2f}s')"
   ]
  },
  {
   "cell_type": "code",
   "execution_count": 13,
   "id": "64f90df9-2773-4f86-8cd6-c024141f2ae2",
   "metadata": {},
   "outputs": [
    {
     "name": "stdout",
     "output_type": "stream",
     "text": [
      "Model weights saved to ./resnet18_weights_v1.pth\n",
      "Train has finished, total epoch is 25\n"
     ]
    }
   ],
   "source": [
    "# 训练结束后保存模型权重\n",
    "model_path = './resnet18_weights_v1.pth'\n",
    "torch.save(net.state_dict(), model_path)\n",
    "print(f'Model weights saved to {model_path}')\n",
    "\n",
    "print('Train has finished, total epoch is %d' % EPOCH)"
   ]
  },
  {
   "cell_type": "code",
   "execution_count": 14,
   "id": "aa1b697a-6e96-44db-87c3-299b2139806e",
   "metadata": {},
   "outputs": [
    {
     "data": {
      "image/png": "[encoded data removed]",
      "text/plain": [
       "<Figure size 1200x500 with 2 Axes>"
      ]
     },
     "metadata": {},
     "output_type": "display_data"
    }
   ],
   "source": [
    "# 绘制训练损失和准确率变化曲线\n",
    "epochs = range(1, EPOCH + 1)\n",
    "plt.figure(figsize=(12, 5))\n",
    "\n",
    "# 训练损失曲线\n",
    "plt.subplot(1, 2, 1)\n",
    "plt.plot(epochs, train_losses, 'orange', label='Training Loss')\n",
    "# 每五个epoch标记一个点并显示数值\n",
    "for i in range(0, EPOCH, 2):\n",
    "    plt.scatter(epochs[i], train_losses[i], color='orange')\n",
    "    plt.text(epochs[i], train_losses[i] + 0.02, f'{train_losses[i]:.2f}', ha='left', va='top', color='orange', fontsize=8)\n",
    "plt.title('Training Loss')\n",
    "plt.xlabel('Epochs')\n",
    "plt.ylabel('Loss')\n",
    "plt.legend()\n",
    "plt.savefig('training_loss1.png')  # 保存训练损失图像\n",
    "\n",
    "# 训练和测试准确率曲线\n",
    "plt.subplot(1, 2, 2)\n",
    "plt.plot(epochs, train_accuracies, 'orange', label='Training Accuracy')\n",
    "plt.plot(epochs, test_accuracies, 'green', label='Test Accuracy')\n",
    "# 每五个epoch标记一个点并显示数值\n",
    "for i in range(0, EPOCH, 2):\n",
    "    plt.scatter(epochs[i], train_accuracies[i], color='orange')\n",
    "    plt.text(epochs[i], train_accuracies[i] + 2, f'{train_accuracies[i]:.2f}', ha='left', va='top', color='orange', fontsize=8)\n",
    "    plt.scatter(epochs[i], test_accuracies[i], color='green')\n",
    "    plt.text(epochs[i], test_accuracies[i] - 2, f'{test_accuracies[i]:.2f}', ha='left', va='top', color='green', fontsize=8)\n",
    "plt.title('Training and Test Accuracy')\n",
    "plt.xlabel('Epochs')\n",
    "plt.ylabel('Accuracy (%)')\n",
    "plt.legend()\n",
    "plt.savefig('training_and_test_accuracy1.png')  # 保存训练和测试准确率图像\n",
    "\n",
    "plt.tight_layout()\n",
    "plt.show()"
   ]
  },
  {
   "cell_type": "code",
   "execution_count": 15,
   "id": "af3ee6f4-2979-4f29-9694-c98ed8b51e3a",
   "metadata": {},
   "outputs": [],
   "source": [
    "# 最终测试并保存结果\n",
    "net.eval()\n",
    "with torch.no_grad():\n",
    "    with open(\"test.txt\", 'w') as f:\n",
    "        for idx, (inputs, targets, im_ids) in enumerate(trainloader):\n",
    "            inputs, targets = inputs.to(device), targets.to(device)\n",
    "            outputs = net(inputs)\n",
    "            _, pred = outputs.topk(1, 1, True, True)\n",
    "            pred = pred.t()\n",
    "            pred = pred.cpu().numpy().tolist()\n",
    "            for i in range(inputs.shape[0]):\n",
    "                f.write(im_ids[i] + ' ' + str(pred[0][i]) + '\\n')\n",
    "    f.close()"
   ]
  }
 ],
 "metadata": {
  "kernelspec": {
   "display_name": "Python 3 (ipykernel)",
   "language": "python",
   "name": "python3"
  },
  "language_info": {
   "codemirror_mode": {
    "name": "ipython",
    "version": 3
   },
   "file_extension": ".py",
   "mimetype": "text/x-python",
   "name": "python",
   "nbconvert_exporter": "python",
   "pygments_lexer": "ipython3",
   "version": "3.12.3"
  }
 },
 "nbformat": 4,
 "nbformat_minor": 5
}
